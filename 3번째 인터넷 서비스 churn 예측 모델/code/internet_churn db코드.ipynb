{
 "cells": [
  {
   "cell_type": "code",
   "execution_count": null,
   "id": "39bccc00-56d2-4a77-a5fd-21b1fec10a6d",
   "metadata": {},
   "outputs": [],
   "source": [
    "import pymysql\n",
    "import csv"
   ]
  },
  {
   "cell_type": "code",
   "execution_count": null,
   "id": "b3967226-d1e3-4bbd-9d26-509c9cee1df9",
   "metadata": {},
   "outputs": [],
   "source": [
    "file = csv.reader(open(\"internet_serve_churn.csv\",\"r\"))\n",
    "\n",
    "next(file)"
   ]
  },
  {
   "cell_type": "code",
   "execution_count": null,
   "id": "88039908-ca00-48c3-99cd-57525fe1c902",
   "metadata": {},
   "outputs": [],
   "source": [
    "config = {\"host\" : \"172.30.1.89\", \"user\" : \"root\", \"password\" : \"1111\", \"database\" : \"inter_churn\"}"
   ]
  },
  {
   "cell_type": "code",
   "execution_count": null,
   "id": "ffc91241-d9e5-49e9-9143-6bf30a26f74c",
   "metadata": {},
   "outputs": [],
   "source": [
    "conn= pymysql.connect(**config)\n",
    "cur = conn.cursor()\n",
    "for i in file:\n",
    "    cur.execute(\"insert into internet_churn values(%s, %s, %s, %s, %s, %s, %s, %s, %s, %s, %s)\", i)\n",
    "conn.commit()"
   ]
  },
  {
   "cell_type": "code",
   "execution_count": null,
   "id": "cf002774-4415-470e-8526-9b42b95255d7",
   "metadata": {},
   "outputs": [],
   "source": []
  },
  {
   "cell_type": "code",
   "execution_count": null,
   "id": "b13e80cb-d76e-40ce-9d53-7962f90ba992",
   "metadata": {},
   "outputs": [],
   "source": []
  },
  {
   "cell_type": "code",
   "execution_count": null,
   "id": "ed993d46-1eb6-4776-9670-620e469173c2",
   "metadata": {},
   "outputs": [],
   "source": []
  },
  {
   "cell_type": "code",
   "execution_count": null,
   "id": "4c97fdc2-03e3-4f94-a877-84e2b35e1ef7",
   "metadata": {},
   "outputs": [],
   "source": []
  },
  {
   "cell_type": "code",
   "execution_count": null,
   "id": "e4bf74c2-5995-43a3-b841-d86ca2b7b797",
   "metadata": {},
   "outputs": [],
   "source": []
  },
  {
   "cell_type": "code",
   "execution_count": null,
   "id": "e485be13-d305-41ca-b633-eb21c26b78c0",
   "metadata": {},
   "outputs": [],
   "source": []
  },
  {
   "cell_type": "code",
   "execution_count": null,
   "id": "9b9a73b7-0b37-4757-b7f1-a13da1ae23b7",
   "metadata": {},
   "outputs": [],
   "source": []
  },
  {
   "cell_type": "code",
   "execution_count": null,
   "id": "b41b8847-709f-44ad-9698-b32bc31fdc8f",
   "metadata": {},
   "outputs": [],
   "source": []
  }
 ],
 "metadata": {
  "kernelspec": {
   "display_name": "Python 3 (ipykernel)",
   "language": "python",
   "name": "python3"
  },
  "language_info": {
   "codemirror_mode": {
    "name": "ipython",
    "version": 3
   },
   "file_extension": ".py",
   "mimetype": "text/x-python",
   "name": "python",
   "nbconvert_exporter": "python",
   "pygments_lexer": "ipython3",
   "version": "3.9.13"
  }
 },
 "nbformat": 4,
 "nbformat_minor": 5
}
