{
 "cells": [
  {
   "cell_type": "code",
   "execution_count": 6,
   "id": "7b15d26f",
   "metadata": {},
   "outputs": [],
   "source": [
    "import numpy as np\n",
    "\n",
    "import pandas as pd\n",
    "import seaborn as sns\n",
    "import matplotlib.pyplot as plt\n",
    "import matplotlib as mlp\n",
    "import matplotlib.font_manager as fm\n",
    "font_name = fm.FontProperties(fname =\"C:\\\\Windows\\\\Fonts\\\\malgun.ttf\").get_name()\n",
    "plt.rc('font',family=font_name)\n",
    "mlp.rcParams['axes.unicode_minus']=False"
   ]
  },
  {
   "cell_type": "code",
   "execution_count": 27,
   "id": "2fc9eefa",
   "metadata": {},
   "outputs": [
    {
     "data": {
      "text/html": [
       "<div>\n",
       "<style scoped>\n",
       "    .dataframe tbody tr th:only-of-type {\n",
       "        vertical-align: middle;\n",
       "    }\n",
       "\n",
       "    .dataframe tbody tr th {\n",
       "        vertical-align: top;\n",
       "    }\n",
       "\n",
       "    .dataframe thead th {\n",
       "        text-align: right;\n",
       "    }\n",
       "</style>\n",
       "<table border=\"1\" class=\"dataframe\">\n",
       "  <thead>\n",
       "    <tr style=\"text-align: right;\">\n",
       "      <th></th>\n",
       "      <th>행정구역(시군구)별</th>\n",
       "      <th>2006.1/4</th>\n",
       "      <th>2006.1/4.1</th>\n",
       "      <th>2006.2/4</th>\n",
       "      <th>2006.2/4.1</th>\n",
       "      <th>2006.3/4</th>\n",
       "      <th>2006.3/4.1</th>\n",
       "      <th>2006.4/4</th>\n",
       "      <th>2006.4/4.1</th>\n",
       "      <th>2007.1/4</th>\n",
       "      <th>...</th>\n",
       "      <th>2021.4/4</th>\n",
       "      <th>2021.4/4.1</th>\n",
       "      <th>2022.1/4</th>\n",
       "      <th>2022.1/4.1</th>\n",
       "      <th>2022.2/4</th>\n",
       "      <th>2022.2/4.1</th>\n",
       "      <th>2022.3/4</th>\n",
       "      <th>2022.3/4.1</th>\n",
       "      <th>2022.4/4</th>\n",
       "      <th>2022.4/4.1</th>\n",
       "    </tr>\n",
       "  </thead>\n",
       "  <tbody>\n",
       "    <tr>\n",
       "      <th>0</th>\n",
       "      <td>행정구역(시군구)별</td>\n",
       "      <td>총전입 (명)</td>\n",
       "      <td>총전출 (명)</td>\n",
       "      <td>총전입 (명)</td>\n",
       "      <td>총전출 (명)</td>\n",
       "      <td>총전입 (명)</td>\n",
       "      <td>총전출 (명)</td>\n",
       "      <td>총전입 (명)</td>\n",
       "      <td>총전출 (명)</td>\n",
       "      <td>총전입 (명)</td>\n",
       "      <td>...</td>\n",
       "      <td>총전입 (명)</td>\n",
       "      <td>총전출 (명)</td>\n",
       "      <td>총전입 (명)</td>\n",
       "      <td>총전출 (명)</td>\n",
       "      <td>총전입 (명)</td>\n",
       "      <td>총전출 (명)</td>\n",
       "      <td>총전입 (명)</td>\n",
       "      <td>총전출 (명)</td>\n",
       "      <td>총전입 (명)</td>\n",
       "      <td>총전출 (명)</td>\n",
       "    </tr>\n",
       "    <tr>\n",
       "      <th>1</th>\n",
       "      <td>서울특별시</td>\n",
       "      <td>564368</td>\n",
       "      <td>557006</td>\n",
       "      <td>534527</td>\n",
       "      <td>547619</td>\n",
       "      <td>474367</td>\n",
       "      <td>479747</td>\n",
       "      <td>600645</td>\n",
       "      <td>626086</td>\n",
       "      <td>597349</td>\n",
       "      <td>...</td>\n",
       "      <td>327776</td>\n",
       "      <td>356948</td>\n",
       "      <td>365748</td>\n",
       "      <td>365166</td>\n",
       "      <td>291090</td>\n",
       "      <td>300148</td>\n",
       "      <td>280969</td>\n",
       "      <td>287578</td>\n",
       "      <td>263720</td>\n",
       "      <td>283975</td>\n",
       "    </tr>\n",
       "  </tbody>\n",
       "</table>\n",
       "<p>2 rows × 137 columns</p>\n",
       "</div>"
      ],
      "text/plain": [
       "   행정구역(시군구)별 2006.1/4 2006.1/4.1 2006.2/4 2006.2/4.1 2006.3/4 2006.3/4.1  \\\n",
       "0  행정구역(시군구)별  총전입 (명)    총전출 (명)  총전입 (명)    총전출 (명)  총전입 (명)    총전출 (명)   \n",
       "1       서울특별시   564368     557006   534527     547619   474367     479747   \n",
       "\n",
       "  2006.4/4 2006.4/4.1 2007.1/4  ... 2021.4/4 2021.4/4.1 2022.1/4 2022.1/4.1  \\\n",
       "0  총전입 (명)    총전출 (명)  총전입 (명)  ...  총전입 (명)    총전출 (명)  총전입 (명)    총전출 (명)   \n",
       "1   600645     626086   597349  ...   327776     356948   365748     365166   \n",
       "\n",
       "  2022.2/4 2022.2/4.1 2022.3/4 2022.3/4.1 2022.4/4 2022.4/4.1  \n",
       "0  총전입 (명)    총전출 (명)  총전입 (명)    총전출 (명)  총전입 (명)    총전출 (명)  \n",
       "1   291090     300148   280969     287578   263720     283975  \n",
       "\n",
       "[2 rows x 137 columns]"
      ]
     },
     "execution_count": 27,
     "metadata": {},
     "output_type": "execute_result"
    }
   ],
   "source": [
    "seoul_pop = pd.read_csv(\"C:\\\\hojun13\\\\python\\\\프로젝트\\\\17년치 시군구별 이동자수.csv\", encoding=\"cp949\")\n",
    "seoul_pop"
   ]
  },
  {
   "cell_type": "code",
   "execution_count": 28,
   "id": "f85f8861",
   "metadata": {},
   "outputs": [],
   "source": [
    "seoul_pop.drop(seoul_pop.index[0], inplace=True)"
   ]
  },
  {
   "cell_type": "code",
   "execution_count": 29,
   "id": "5ab9f1a4",
   "metadata": {},
   "outputs": [
    {
     "data": {
      "text/html": [
       "<div>\n",
       "<style scoped>\n",
       "    .dataframe tbody tr th:only-of-type {\n",
       "        vertical-align: middle;\n",
       "    }\n",
       "\n",
       "    .dataframe tbody tr th {\n",
       "        vertical-align: top;\n",
       "    }\n",
       "\n",
       "    .dataframe thead th {\n",
       "        text-align: right;\n",
       "    }\n",
       "</style>\n",
       "<table border=\"1\" class=\"dataframe\">\n",
       "  <thead>\n",
       "    <tr style=\"text-align: right;\">\n",
       "      <th></th>\n",
       "      <th>행정구역(시군구)별</th>\n",
       "      <th>2006.1/4</th>\n",
       "      <th>2006.1/4.1</th>\n",
       "      <th>2006.2/4</th>\n",
       "      <th>2006.2/4.1</th>\n",
       "      <th>2006.3/4</th>\n",
       "      <th>2006.3/4.1</th>\n",
       "      <th>2006.4/4</th>\n",
       "      <th>2006.4/4.1</th>\n",
       "      <th>2007.1/4</th>\n",
       "      <th>...</th>\n",
       "      <th>2021.4/4</th>\n",
       "      <th>2021.4/4.1</th>\n",
       "      <th>2022.1/4</th>\n",
       "      <th>2022.1/4.1</th>\n",
       "      <th>2022.2/4</th>\n",
       "      <th>2022.2/4.1</th>\n",
       "      <th>2022.3/4</th>\n",
       "      <th>2022.3/4.1</th>\n",
       "      <th>2022.4/4</th>\n",
       "      <th>2022.4/4.1</th>\n",
       "    </tr>\n",
       "  </thead>\n",
       "  <tbody>\n",
       "    <tr>\n",
       "      <th>1</th>\n",
       "      <td>서울특별시</td>\n",
       "      <td>564368</td>\n",
       "      <td>557006</td>\n",
       "      <td>534527</td>\n",
       "      <td>547619</td>\n",
       "      <td>474367</td>\n",
       "      <td>479747</td>\n",
       "      <td>600645</td>\n",
       "      <td>626086</td>\n",
       "      <td>597349</td>\n",
       "      <td>...</td>\n",
       "      <td>327776</td>\n",
       "      <td>356948</td>\n",
       "      <td>365748</td>\n",
       "      <td>365166</td>\n",
       "      <td>291090</td>\n",
       "      <td>300148</td>\n",
       "      <td>280969</td>\n",
       "      <td>287578</td>\n",
       "      <td>263720</td>\n",
       "      <td>283975</td>\n",
       "    </tr>\n",
       "  </tbody>\n",
       "</table>\n",
       "<p>1 rows × 137 columns</p>\n",
       "</div>"
      ],
      "text/plain": [
       "  행정구역(시군구)별 2006.1/4 2006.1/4.1 2006.2/4 2006.2/4.1 2006.3/4 2006.3/4.1  \\\n",
       "1      서울특별시   564368     557006   534527     547619   474367     479747   \n",
       "\n",
       "  2006.4/4 2006.4/4.1 2007.1/4  ... 2021.4/4 2021.4/4.1 2022.1/4 2022.1/4.1  \\\n",
       "1   600645     626086   597349  ...   327776     356948   365748     365166   \n",
       "\n",
       "  2022.2/4 2022.2/4.1 2022.3/4 2022.3/4.1 2022.4/4 2022.4/4.1  \n",
       "1   291090     300148   280969     287578   263720     283975  \n",
       "\n",
       "[1 rows x 137 columns]"
      ]
     },
     "execution_count": 29,
     "metadata": {},
     "output_type": "execute_result"
    }
   ],
   "source": [
    "seoul_pop"
   ]
  },
  {
   "cell_type": "code",
   "execution_count": 30,
   "id": "f5b1c3d3",
   "metadata": {},
   "outputs": [],
   "source": [
    "seoul_pop.rename(columns={\"행정구역(시군구)별\" : \"연도\"}, inplace=True)"
   ]
  },
  {
   "cell_type": "code",
   "execution_count": 32,
   "id": "69de580f",
   "metadata": {
    "collapsed": true
   },
   "outputs": [
    {
     "data": {
      "text/html": [
       "<div>\n",
       "<style scoped>\n",
       "    .dataframe tbody tr th:only-of-type {\n",
       "        vertical-align: middle;\n",
       "    }\n",
       "\n",
       "    .dataframe tbody tr th {\n",
       "        vertical-align: top;\n",
       "    }\n",
       "\n",
       "    .dataframe thead th {\n",
       "        text-align: right;\n",
       "    }\n",
       "</style>\n",
       "<table border=\"1\" class=\"dataframe\">\n",
       "  <thead>\n",
       "    <tr style=\"text-align: right;\">\n",
       "      <th></th>\n",
       "      <th>1</th>\n",
       "    </tr>\n",
       "  </thead>\n",
       "  <tbody>\n",
       "    <tr>\n",
       "      <th>연도</th>\n",
       "      <td>서울특별시</td>\n",
       "    </tr>\n",
       "    <tr>\n",
       "      <th>2006.1/4</th>\n",
       "      <td>564368</td>\n",
       "    </tr>\n",
       "    <tr>\n",
       "      <th>2006.1/4.1</th>\n",
       "      <td>557006</td>\n",
       "    </tr>\n",
       "    <tr>\n",
       "      <th>2006.2/4</th>\n",
       "      <td>534527</td>\n",
       "    </tr>\n",
       "    <tr>\n",
       "      <th>2006.2/4.1</th>\n",
       "      <td>547619</td>\n",
       "    </tr>\n",
       "    <tr>\n",
       "      <th>...</th>\n",
       "      <td>...</td>\n",
       "    </tr>\n",
       "    <tr>\n",
       "      <th>2022.2/4.1</th>\n",
       "      <td>300148</td>\n",
       "    </tr>\n",
       "    <tr>\n",
       "      <th>2022.3/4</th>\n",
       "      <td>280969</td>\n",
       "    </tr>\n",
       "    <tr>\n",
       "      <th>2022.3/4.1</th>\n",
       "      <td>287578</td>\n",
       "    </tr>\n",
       "    <tr>\n",
       "      <th>2022.4/4</th>\n",
       "      <td>263720</td>\n",
       "    </tr>\n",
       "    <tr>\n",
       "      <th>2022.4/4.1</th>\n",
       "      <td>283975</td>\n",
       "    </tr>\n",
       "  </tbody>\n",
       "</table>\n",
       "<p>137 rows × 1 columns</p>\n",
       "</div>"
      ],
      "text/plain": [
       "                 1\n",
       "연도           서울특별시\n",
       "2006.1/4    564368\n",
       "2006.1/4.1  557006\n",
       "2006.2/4    534527\n",
       "2006.2/4.1  547619\n",
       "...            ...\n",
       "2022.2/4.1  300148\n",
       "2022.3/4    280969\n",
       "2022.3/4.1  287578\n",
       "2022.4/4    263720\n",
       "2022.4/4.1  283975\n",
       "\n",
       "[137 rows x 1 columns]"
      ]
     },
     "execution_count": 32,
     "metadata": {},
     "output_type": "execute_result"
    }
   ],
   "source": [
    "seoul_pop2 = seoul_pop.T\n",
    "seoul_pop2"
   ]
  },
  {
   "cell_type": "code",
   "execution_count": 33,
   "id": "6cc4c9a7",
   "metadata": {},
   "outputs": [],
   "source": [
    "seoul_pop2.to_csv(\"C:\\\\hojun13\\\\python\\\\프로젝트\\\\17년치 시군구별 이동수.csv\", encoding=\"utf-8\")"
   ]
  },
  {
   "cell_type": "code",
   "execution_count": 35,
   "id": "24c30594",
   "metadata": {
    "collapsed": true
   },
   "outputs": [
    {
     "data": {
      "text/html": [
       "<div>\n",
       "<style scoped>\n",
       "    .dataframe tbody tr th:only-of-type {\n",
       "        vertical-align: middle;\n",
       "    }\n",
       "\n",
       "    .dataframe tbody tr th {\n",
       "        vertical-align: top;\n",
       "    }\n",
       "\n",
       "    .dataframe thead th {\n",
       "        text-align: right;\n",
       "    }\n",
       "</style>\n",
       "<table border=\"1\" class=\"dataframe\">\n",
       "  <thead>\n",
       "    <tr style=\"text-align: right;\">\n",
       "      <th></th>\n",
       "      <th>연도</th>\n",
       "      <th>서울특별시</th>\n",
       "    </tr>\n",
       "  </thead>\n",
       "  <tbody>\n",
       "    <tr>\n",
       "      <th>0</th>\n",
       "      <td>2006.1/4</td>\n",
       "      <td>564368</td>\n",
       "    </tr>\n",
       "    <tr>\n",
       "      <th>1</th>\n",
       "      <td>2006.1/4.1</td>\n",
       "      <td>557006</td>\n",
       "    </tr>\n",
       "    <tr>\n",
       "      <th>2</th>\n",
       "      <td>2006.2/4</td>\n",
       "      <td>534527</td>\n",
       "    </tr>\n",
       "    <tr>\n",
       "      <th>3</th>\n",
       "      <td>2006.2/4.1</td>\n",
       "      <td>547619</td>\n",
       "    </tr>\n",
       "    <tr>\n",
       "      <th>4</th>\n",
       "      <td>2006.3/4</td>\n",
       "      <td>474367</td>\n",
       "    </tr>\n",
       "    <tr>\n",
       "      <th>...</th>\n",
       "      <td>...</td>\n",
       "      <td>...</td>\n",
       "    </tr>\n",
       "    <tr>\n",
       "      <th>131</th>\n",
       "      <td>2022.2/4.1</td>\n",
       "      <td>300148</td>\n",
       "    </tr>\n",
       "    <tr>\n",
       "      <th>132</th>\n",
       "      <td>2022.3/4</td>\n",
       "      <td>280969</td>\n",
       "    </tr>\n",
       "    <tr>\n",
       "      <th>133</th>\n",
       "      <td>2022.3/4.1</td>\n",
       "      <td>287578</td>\n",
       "    </tr>\n",
       "    <tr>\n",
       "      <th>134</th>\n",
       "      <td>2022.4/4</td>\n",
       "      <td>263720</td>\n",
       "    </tr>\n",
       "    <tr>\n",
       "      <th>135</th>\n",
       "      <td>2022.4/4.1</td>\n",
       "      <td>283975</td>\n",
       "    </tr>\n",
       "  </tbody>\n",
       "</table>\n",
       "<p>136 rows × 2 columns</p>\n",
       "</div>"
      ],
      "text/plain": [
       "             연도   서울특별시\n",
       "0      2006.1/4  564368\n",
       "1    2006.1/4.1  557006\n",
       "2      2006.2/4  534527\n",
       "3    2006.2/4.1  547619\n",
       "4      2006.3/4  474367\n",
       "..          ...     ...\n",
       "131  2022.2/4.1  300148\n",
       "132    2022.3/4  280969\n",
       "133  2022.3/4.1  287578\n",
       "134    2022.4/4  263720\n",
       "135  2022.4/4.1  283975\n",
       "\n",
       "[136 rows x 2 columns]"
      ]
     },
     "execution_count": 35,
     "metadata": {},
     "output_type": "execute_result"
    }
   ],
   "source": [
    "seoul_pop3 = pd.read_csv(\"C:\\\\hojun13\\\\python\\\\프로젝트\\\\17년치 시군구별 이동수.csv\", encoding=\"utf-8\", header=1)\n",
    "seoul_pop3"
   ]
  },
  {
   "cell_type": "code",
   "execution_count": 47,
   "id": "9cb341d5",
   "metadata": {},
   "outputs": [],
   "source": [
    "sum_pop = []\n",
    "for i in range(1, len(seoul_pop3)):\n",
    "    if i%2==1:\n",
    "        sum_pop.append(seoul_pop3['서울특별시'][i]+seoul_pop3['서울특별시'][i-1])"
   ]
  },
  {
   "cell_type": "code",
   "execution_count": 56,
   "id": "dbaf8065",
   "metadata": {
    "collapsed": true
   },
   "outputs": [
    {
     "data": {
      "text/plain": [
       "['2006/Q1',\n",
       " '2006/Q2',\n",
       " '2006/Q3',\n",
       " '2006/Q4',\n",
       " '2007/Q1',\n",
       " '2007/Q2',\n",
       " '2007/Q3',\n",
       " '2007/Q4',\n",
       " '2008/Q1',\n",
       " '2008/Q2',\n",
       " '2008/Q3',\n",
       " '2008/Q4',\n",
       " '2009/Q1',\n",
       " '2009/Q2',\n",
       " '2009/Q3',\n",
       " '2009/Q4',\n",
       " '2010/Q1',\n",
       " '2010/Q2',\n",
       " '2010/Q3',\n",
       " '2010/Q4',\n",
       " '2011/Q1',\n",
       " '2011/Q2',\n",
       " '2011/Q3',\n",
       " '2011/Q4',\n",
       " '2012/Q1',\n",
       " '2012/Q2',\n",
       " '2012/Q3',\n",
       " '2012/Q4',\n",
       " '2013/Q1',\n",
       " '2013/Q2',\n",
       " '2013/Q3',\n",
       " '2013/Q4',\n",
       " '2014/Q1',\n",
       " '2014/Q2',\n",
       " '2014/Q3',\n",
       " '2014/Q4',\n",
       " '2015/Q1',\n",
       " '2015/Q2',\n",
       " '2015/Q3',\n",
       " '2015/Q4',\n",
       " '2016/Q1',\n",
       " '2016/Q2',\n",
       " '2016/Q3',\n",
       " '2016/Q4',\n",
       " '2017/Q1',\n",
       " '2017/Q2',\n",
       " '2017/Q3',\n",
       " '2017/Q4',\n",
       " '2018/Q1',\n",
       " '2018/Q2',\n",
       " '2018/Q3',\n",
       " '2018/Q4',\n",
       " '2019/Q1',\n",
       " '2019/Q2',\n",
       " '2019/Q3',\n",
       " '2019/Q4',\n",
       " '2020/Q1',\n",
       " '2020/Q2',\n",
       " '2020/Q3',\n",
       " '2020/Q4',\n",
       " '2021/Q1',\n",
       " '2021/Q2',\n",
       " '2021/Q3',\n",
       " '2021/Q4',\n",
       " '2022/Q1',\n",
       " '2022/Q2',\n",
       " '2022/Q3',\n",
       " '2022/Q4']"
      ]
     },
     "execution_count": 56,
     "metadata": {},
     "output_type": "execute_result"
    }
   ],
   "source": [
    "year=[]\n",
    "col = []\n",
    "for i in range(2006, 2023):\n",
    "    year.append(i)\n",
    "    for j in range(1, 5):\n",
    "        col.append(\"{}\".format(i)+\"/\"+\"Q{}\".format(j))\n",
    "\n",
    "col"
   ]
  },
  {
   "cell_type": "code",
   "execution_count": 60,
   "id": "be5fccd5",
   "metadata": {},
   "outputs": [
    {
     "data": {
      "text/plain": [
       "68"
      ]
     },
     "execution_count": 60,
     "metadata": {},
     "output_type": "execute_result"
    }
   ],
   "source": [
    "len(sum_pop)"
   ]
  },
  {
   "cell_type": "code",
   "execution_count": 46,
   "id": "b6f41385",
   "metadata": {},
   "outputs": [
    {
     "data": {
      "text/plain": [
       "1121374"
      ]
     },
     "execution_count": 46,
     "metadata": {},
     "output_type": "execute_result"
    }
   ],
   "source": [
    "seoul_pop3['서울특별시'][1]+seoul_pop3['서울특별시']"
   ]
  },
  {
   "cell_type": "code",
   "execution_count": 78,
   "id": "a0c121f5",
   "metadata": {},
   "outputs": [
    {
     "data": {
      "text/html": [
       "<div>\n",
       "<style scoped>\n",
       "    .dataframe tbody tr th:only-of-type {\n",
       "        vertical-align: middle;\n",
       "    }\n",
       "\n",
       "    .dataframe tbody tr th {\n",
       "        vertical-align: top;\n",
       "    }\n",
       "\n",
       "    .dataframe thead th {\n",
       "        text-align: right;\n",
       "    }\n",
       "</style>\n",
       "<table border=\"1\" class=\"dataframe\">\n",
       "  <thead>\n",
       "    <tr style=\"text-align: right;\">\n",
       "      <th></th>\n",
       "      <th>연도</th>\n",
       "      <th>총인구</th>\n",
       "    </tr>\n",
       "  </thead>\n",
       "  <tbody>\n",
       "  </tbody>\n",
       "</table>\n",
       "</div>"
      ],
      "text/plain": [
       "Empty DataFrame\n",
       "Columns: [연도, 총인구]\n",
       "Index: []"
      ]
     },
     "execution_count": 78,
     "metadata": {},
     "output_type": "execute_result"
    }
   ],
   "source": [
    "seoul_pops = pd.DataFrame(columns=['연도', '총인구'])\n",
    "seoul_pops"
   ]
  },
  {
   "cell_type": "code",
   "execution_count": 79,
   "id": "a7c7c8be",
   "metadata": {},
   "outputs": [],
   "source": [
    "seoul_pops['연도']=col"
   ]
  },
  {
   "cell_type": "code",
   "execution_count": 80,
   "id": "a1bfae03",
   "metadata": {},
   "outputs": [],
   "source": [
    "seoul_pops['총인구']=sum_pop"
   ]
  },
  {
   "cell_type": "code",
   "execution_count": 81,
   "id": "c268fca6",
   "metadata": {},
   "outputs": [
    {
     "data": {
      "text/html": [
       "<div>\n",
       "<style scoped>\n",
       "    .dataframe tbody tr th:only-of-type {\n",
       "        vertical-align: middle;\n",
       "    }\n",
       "\n",
       "    .dataframe tbody tr th {\n",
       "        vertical-align: top;\n",
       "    }\n",
       "\n",
       "    .dataframe thead th {\n",
       "        text-align: right;\n",
       "    }\n",
       "</style>\n",
       "<table border=\"1\" class=\"dataframe\">\n",
       "  <thead>\n",
       "    <tr style=\"text-align: right;\">\n",
       "      <th></th>\n",
       "      <th>연도</th>\n",
       "      <th>총인구</th>\n",
       "    </tr>\n",
       "  </thead>\n",
       "  <tbody>\n",
       "    <tr>\n",
       "      <th>0</th>\n",
       "      <td>2006/Q1</td>\n",
       "      <td>1121374</td>\n",
       "    </tr>\n",
       "    <tr>\n",
       "      <th>1</th>\n",
       "      <td>2006/Q2</td>\n",
       "      <td>1082146</td>\n",
       "    </tr>\n",
       "    <tr>\n",
       "      <th>2</th>\n",
       "      <td>2006/Q3</td>\n",
       "      <td>954114</td>\n",
       "    </tr>\n",
       "    <tr>\n",
       "      <th>3</th>\n",
       "      <td>2006/Q4</td>\n",
       "      <td>1226731</td>\n",
       "    </tr>\n",
       "    <tr>\n",
       "      <th>4</th>\n",
       "      <td>2007/Q1</td>\n",
       "      <td>1194070</td>\n",
       "    </tr>\n",
       "    <tr>\n",
       "      <th>...</th>\n",
       "      <td>...</td>\n",
       "      <td>...</td>\n",
       "    </tr>\n",
       "    <tr>\n",
       "      <th>63</th>\n",
       "      <td>2021/Q4</td>\n",
       "      <td>684724</td>\n",
       "    </tr>\n",
       "    <tr>\n",
       "      <th>64</th>\n",
       "      <td>2022/Q1</td>\n",
       "      <td>730914</td>\n",
       "    </tr>\n",
       "    <tr>\n",
       "      <th>65</th>\n",
       "      <td>2022/Q2</td>\n",
       "      <td>591238</td>\n",
       "    </tr>\n",
       "    <tr>\n",
       "      <th>66</th>\n",
       "      <td>2022/Q3</td>\n",
       "      <td>568547</td>\n",
       "    </tr>\n",
       "    <tr>\n",
       "      <th>67</th>\n",
       "      <td>2022/Q4</td>\n",
       "      <td>547695</td>\n",
       "    </tr>\n",
       "  </tbody>\n",
       "</table>\n",
       "<p>68 rows × 2 columns</p>\n",
       "</div>"
      ],
      "text/plain": [
       "         연도      총인구\n",
       "0   2006/Q1  1121374\n",
       "1   2006/Q2  1082146\n",
       "2   2006/Q3   954114\n",
       "3   2006/Q4  1226731\n",
       "4   2007/Q1  1194070\n",
       "..      ...      ...\n",
       "63  2021/Q4   684724\n",
       "64  2022/Q1   730914\n",
       "65  2022/Q2   591238\n",
       "66  2022/Q3   568547\n",
       "67  2022/Q4   547695\n",
       "\n",
       "[68 rows x 2 columns]"
      ]
     },
     "execution_count": 81,
     "metadata": {},
     "output_type": "execute_result"
    }
   ],
   "source": [
    "seoul_pops"
   ]
  },
  {
   "cell_type": "code",
   "execution_count": 103,
   "id": "8caafb7f",
   "metadata": {},
   "outputs": [
    {
     "data": {
      "text/html": [
       "<div>\n",
       "<style scoped>\n",
       "    .dataframe tbody tr th:only-of-type {\n",
       "        vertical-align: middle;\n",
       "    }\n",
       "\n",
       "    .dataframe tbody tr th {\n",
       "        vertical-align: top;\n",
       "    }\n",
       "\n",
       "    .dataframe thead th {\n",
       "        text-align: right;\n",
       "    }\n",
       "</style>\n",
       "<table border=\"1\" class=\"dataframe\">\n",
       "  <thead>\n",
       "    <tr style=\"text-align: right;\">\n",
       "      <th></th>\n",
       "      <th>행정구역(시군구)별</th>\n",
       "      <th>2006</th>\n",
       "      <th>2007</th>\n",
       "      <th>2008</th>\n",
       "      <th>2009</th>\n",
       "      <th>2010</th>\n",
       "      <th>2011</th>\n",
       "      <th>2012</th>\n",
       "      <th>2013</th>\n",
       "      <th>2014</th>\n",
       "      <th>2015</th>\n",
       "      <th>2016</th>\n",
       "      <th>2017</th>\n",
       "      <th>2018</th>\n",
       "      <th>2019</th>\n",
       "      <th>2020</th>\n",
       "      <th>2021</th>\n",
       "      <th>2022</th>\n",
       "    </tr>\n",
       "  </thead>\n",
       "  <tbody>\n",
       "    <tr>\n",
       "      <th>0</th>\n",
       "      <td>서울특별시</td>\n",
       "      <td>3978938</td>\n",
       "      <td>4046086</td>\n",
       "      <td>4097562</td>\n",
       "      <td>4116660</td>\n",
       "      <td>4224181</td>\n",
       "      <td>4192752</td>\n",
       "      <td>4177970</td>\n",
       "      <td>4182351</td>\n",
       "      <td>4194176</td>\n",
       "      <td>4189948</td>\n",
       "      <td>4189839</td>\n",
       "      <td>4220082</td>\n",
       "      <td>4263868</td>\n",
       "      <td>4327605</td>\n",
       "      <td>4417954</td>\n",
       "      <td>4426007</td>\n",
       "      <td>4446296</td>\n",
       "    </tr>\n",
       "  </tbody>\n",
       "</table>\n",
       "</div>"
      ],
      "text/plain": [
       "  행정구역(시군구)별     2006     2007     2008     2009     2010     2011     2012  \\\n",
       "0      서울특별시  3978938  4046086  4097562  4116660  4224181  4192752  4177970   \n",
       "\n",
       "      2013     2014     2015     2016     2017     2018     2019     2020  \\\n",
       "0  4182351  4194176  4189948  4189839  4220082  4263868  4327605  4417954   \n",
       "\n",
       "      2021     2022  \n",
       "0  4426007  4446296  "
      ]
     },
     "execution_count": 103,
     "metadata": {},
     "output_type": "execute_result"
    }
   ],
   "source": [
    "seoul_total = pd.read_csv(\"C:\\\\hojun13\\\\python\\\\프로젝트\\\\17년치 서울총인구.csv\", encoding=\"cp949\")\n",
    "seoul_total"
   ]
  },
  {
   "cell_type": "code",
   "execution_count": 104,
   "id": "f94d3ab4",
   "metadata": {},
   "outputs": [
    {
     "data": {
      "text/plain": [
       "0    3978938\n",
       "Name: 2006, dtype: int64"
      ]
     },
     "execution_count": 104,
     "metadata": {},
     "output_type": "execute_result"
    }
   ],
   "source": [
    "seoul_total['2006']"
   ]
  },
  {
   "cell_type": "code",
   "execution_count": 96,
   "id": "9abb4330",
   "metadata": {},
   "outputs": [
    {
     "name": "stderr",
     "output_type": "stream",
     "text": [
      "C:\\Users\\USER\\AppData\\Local\\Temp\\ipykernel_7832\\2577576370.py:3: SettingWithCopyWarning: \n",
      "A value is trying to be set on a copy of a slice from a DataFrame\n",
      "\n",
      "See the caveats in the documentation: https://pandas.pydata.org/pandas-docs/stable/user_guide/indexing.html#returning-a-view-versus-a-copy\n",
      "  seoul_pops['인구이동률'][i]= seoul_pops['총인구'][i]/seoul_total['{}'.format(year[i//4])]\n"
     ]
    }
   ],
   "source": [
    "j=0\n",
    "for i in range(1, len(seoul_pops)): \n",
    "    seoul_pops['인구이동률'][i]= seoul_pops['총인구'][i]/seoul_total['{}'.format(year[i//4])]\n"
   ]
  },
  {
   "cell_type": "code",
   "execution_count": 97,
   "id": "756ffedd",
   "metadata": {},
   "outputs": [
    {
     "data": {
      "text/html": [
       "<div>\n",
       "<style scoped>\n",
       "    .dataframe tbody tr th:only-of-type {\n",
       "        vertical-align: middle;\n",
       "    }\n",
       "\n",
       "    .dataframe tbody tr th {\n",
       "        vertical-align: top;\n",
       "    }\n",
       "\n",
       "    .dataframe thead th {\n",
       "        text-align: right;\n",
       "    }\n",
       "</style>\n",
       "<table border=\"1\" class=\"dataframe\">\n",
       "  <thead>\n",
       "    <tr style=\"text-align: right;\">\n",
       "      <th></th>\n",
       "      <th>연도</th>\n",
       "      <th>총인구</th>\n",
       "      <th>인구이동률</th>\n",
       "    </tr>\n",
       "  </thead>\n",
       "  <tbody>\n",
       "    <tr>\n",
       "      <th>0</th>\n",
       "      <td>2006/Q1</td>\n",
       "      <td>1121374</td>\n",
       "      <td>0.281827</td>\n",
       "    </tr>\n",
       "    <tr>\n",
       "      <th>1</th>\n",
       "      <td>2006/Q2</td>\n",
       "      <td>1082146</td>\n",
       "      <td>0.271969</td>\n",
       "    </tr>\n",
       "    <tr>\n",
       "      <th>2</th>\n",
       "      <td>2006/Q3</td>\n",
       "      <td>954114</td>\n",
       "      <td>0.239791</td>\n",
       "    </tr>\n",
       "    <tr>\n",
       "      <th>3</th>\n",
       "      <td>2006/Q4</td>\n",
       "      <td>1226731</td>\n",
       "      <td>0.308306</td>\n",
       "    </tr>\n",
       "    <tr>\n",
       "      <th>4</th>\n",
       "      <td>2007/Q1</td>\n",
       "      <td>1194070</td>\n",
       "      <td>0.295117</td>\n",
       "    </tr>\n",
       "    <tr>\n",
       "      <th>...</th>\n",
       "      <td>...</td>\n",
       "      <td>...</td>\n",
       "      <td>...</td>\n",
       "    </tr>\n",
       "    <tr>\n",
       "      <th>63</th>\n",
       "      <td>2021/Q4</td>\n",
       "      <td>684724</td>\n",
       "      <td>0.154705</td>\n",
       "    </tr>\n",
       "    <tr>\n",
       "      <th>64</th>\n",
       "      <td>2022/Q1</td>\n",
       "      <td>730914</td>\n",
       "      <td>0.164387</td>\n",
       "    </tr>\n",
       "    <tr>\n",
       "      <th>65</th>\n",
       "      <td>2022/Q2</td>\n",
       "      <td>591238</td>\n",
       "      <td>0.132973</td>\n",
       "    </tr>\n",
       "    <tr>\n",
       "      <th>66</th>\n",
       "      <td>2022/Q3</td>\n",
       "      <td>568547</td>\n",
       "      <td>0.127870</td>\n",
       "    </tr>\n",
       "    <tr>\n",
       "      <th>67</th>\n",
       "      <td>2022/Q4</td>\n",
       "      <td>547695</td>\n",
       "      <td>0.123180</td>\n",
       "    </tr>\n",
       "  </tbody>\n",
       "</table>\n",
       "<p>68 rows × 3 columns</p>\n",
       "</div>"
      ],
      "text/plain": [
       "         연도      총인구     인구이동률\n",
       "0   2006/Q1  1121374  0.281827\n",
       "1   2006/Q2  1082146  0.271969\n",
       "2   2006/Q3   954114  0.239791\n",
       "3   2006/Q4  1226731  0.308306\n",
       "4   2007/Q1  1194070  0.295117\n",
       "..      ...      ...       ...\n",
       "63  2021/Q4   684724  0.154705\n",
       "64  2022/Q1   730914  0.164387\n",
       "65  2022/Q2   591238  0.132973\n",
       "66  2022/Q3   568547  0.127870\n",
       "67  2022/Q4   547695  0.123180\n",
       "\n",
       "[68 rows x 3 columns]"
      ]
     },
     "execution_count": 97,
     "metadata": {},
     "output_type": "execute_result"
    }
   ],
   "source": [
    "seoul_pops"
   ]
  },
  {
   "cell_type": "code",
   "execution_count": 99,
   "id": "9b9f8ead",
   "metadata": {
    "collapsed": true
   },
   "outputs": [
    {
     "name": "stdout",
     "output_type": "stream",
     "text": [
      "<class 'pandas.core.frame.DataFrame'>\n",
      "RangeIndex: 68 entries, 0 to 67\n",
      "Data columns (total 3 columns):\n",
      " #   Column  Non-Null Count  Dtype  \n",
      "---  ------  --------------  -----  \n",
      " 0   연도      68 non-null     object \n",
      " 1   총인구     68 non-null     int64  \n",
      " 2   인구이동률   68 non-null     float64\n",
      "dtypes: float64(1), int64(1), object(1)\n",
      "memory usage: 1.7+ KB\n"
     ]
    }
   ],
   "source": [
    "seoul_pops.info()"
   ]
  },
  {
   "cell_type": "code",
   "execution_count": 100,
   "id": "05352a96",
   "metadata": {
    "scrolled": true
   },
   "outputs": [],
   "source": [
    "del seoul_pops['총인구']"
   ]
  },
  {
   "cell_type": "code",
   "execution_count": 101,
   "id": "982ad82a",
   "metadata": {},
   "outputs": [
    {
     "data": {
      "text/html": [
       "<div>\n",
       "<style scoped>\n",
       "    .dataframe tbody tr th:only-of-type {\n",
       "        vertical-align: middle;\n",
       "    }\n",
       "\n",
       "    .dataframe tbody tr th {\n",
       "        vertical-align: top;\n",
       "    }\n",
       "\n",
       "    .dataframe thead th {\n",
       "        text-align: right;\n",
       "    }\n",
       "</style>\n",
       "<table border=\"1\" class=\"dataframe\">\n",
       "  <thead>\n",
       "    <tr style=\"text-align: right;\">\n",
       "      <th></th>\n",
       "      <th>연도</th>\n",
       "      <th>인구이동률</th>\n",
       "    </tr>\n",
       "  </thead>\n",
       "  <tbody>\n",
       "    <tr>\n",
       "      <th>0</th>\n",
       "      <td>2006/Q1</td>\n",
       "      <td>0.281827</td>\n",
       "    </tr>\n",
       "    <tr>\n",
       "      <th>1</th>\n",
       "      <td>2006/Q2</td>\n",
       "      <td>0.271969</td>\n",
       "    </tr>\n",
       "    <tr>\n",
       "      <th>2</th>\n",
       "      <td>2006/Q3</td>\n",
       "      <td>0.239791</td>\n",
       "    </tr>\n",
       "    <tr>\n",
       "      <th>3</th>\n",
       "      <td>2006/Q4</td>\n",
       "      <td>0.308306</td>\n",
       "    </tr>\n",
       "    <tr>\n",
       "      <th>4</th>\n",
       "      <td>2007/Q1</td>\n",
       "      <td>0.295117</td>\n",
       "    </tr>\n",
       "    <tr>\n",
       "      <th>...</th>\n",
       "      <td>...</td>\n",
       "      <td>...</td>\n",
       "    </tr>\n",
       "    <tr>\n",
       "      <th>63</th>\n",
       "      <td>2021/Q4</td>\n",
       "      <td>0.154705</td>\n",
       "    </tr>\n",
       "    <tr>\n",
       "      <th>64</th>\n",
       "      <td>2022/Q1</td>\n",
       "      <td>0.164387</td>\n",
       "    </tr>\n",
       "    <tr>\n",
       "      <th>65</th>\n",
       "      <td>2022/Q2</td>\n",
       "      <td>0.132973</td>\n",
       "    </tr>\n",
       "    <tr>\n",
       "      <th>66</th>\n",
       "      <td>2022/Q3</td>\n",
       "      <td>0.127870</td>\n",
       "    </tr>\n",
       "    <tr>\n",
       "      <th>67</th>\n",
       "      <td>2022/Q4</td>\n",
       "      <td>0.123180</td>\n",
       "    </tr>\n",
       "  </tbody>\n",
       "</table>\n",
       "<p>68 rows × 2 columns</p>\n",
       "</div>"
      ],
      "text/plain": [
       "         연도     인구이동률\n",
       "0   2006/Q1  0.281827\n",
       "1   2006/Q2  0.271969\n",
       "2   2006/Q3  0.239791\n",
       "3   2006/Q4  0.308306\n",
       "4   2007/Q1  0.295117\n",
       "..      ...       ...\n",
       "63  2021/Q4  0.154705\n",
       "64  2022/Q1  0.164387\n",
       "65  2022/Q2  0.132973\n",
       "66  2022/Q3  0.127870\n",
       "67  2022/Q4  0.123180\n",
       "\n",
       "[68 rows x 2 columns]"
      ]
     },
     "execution_count": 101,
     "metadata": {},
     "output_type": "execute_result"
    }
   ],
   "source": [
    "seoul_pops"
   ]
  },
  {
   "cell_type": "code",
   "execution_count": 102,
   "id": "c8178667",
   "metadata": {},
   "outputs": [],
   "source": [
    "seoul_pops.to_csv(\"C:\\\\hojun13\\\\python\\\\프로젝트\\\\17년치 인구이동률.csv\", encoding=\"utf-8\")"
   ]
  },
  {
   "cell_type": "code",
   "execution_count": null,
   "id": "3c91ffc0",
   "metadata": {},
   "outputs": [],
   "source": []
  },
  {
   "cell_type": "code",
   "execution_count": null,
   "id": "acb9868a",
   "metadata": {},
   "outputs": [],
   "source": []
  },
  {
   "cell_type": "code",
   "execution_count": null,
   "id": "a83dea7d",
   "metadata": {},
   "outputs": [],
   "source": []
  },
  {
   "cell_type": "code",
   "execution_count": null,
   "id": "822d1425",
   "metadata": {},
   "outputs": [],
   "source": []
  },
  {
   "cell_type": "code",
   "execution_count": null,
   "id": "8d5c751e",
   "metadata": {},
   "outputs": [],
   "source": []
  },
  {
   "cell_type": "code",
   "execution_count": null,
   "id": "5da30e4b",
   "metadata": {},
   "outputs": [],
   "source": []
  },
  {
   "cell_type": "code",
   "execution_count": null,
   "id": "18585ba9",
   "metadata": {},
   "outputs": [],
   "source": []
  },
  {
   "cell_type": "code",
   "execution_count": null,
   "id": "cade2aa8",
   "metadata": {},
   "outputs": [],
   "source": []
  },
  {
   "cell_type": "code",
   "execution_count": null,
   "id": "9eab3f7a",
   "metadata": {},
   "outputs": [],
   "source": []
  },
  {
   "cell_type": "code",
   "execution_count": null,
   "id": "a2387981",
   "metadata": {},
   "outputs": [],
   "source": []
  },
  {
   "cell_type": "code",
   "execution_count": null,
   "id": "5a19aab8",
   "metadata": {},
   "outputs": [],
   "source": []
  },
  {
   "cell_type": "code",
   "execution_count": null,
   "id": "557edc2f",
   "metadata": {},
   "outputs": [],
   "source": []
  },
  {
   "cell_type": "code",
   "execution_count": null,
   "id": "ef8b02eb",
   "metadata": {},
   "outputs": [],
   "source": []
  },
  {
   "cell_type": "code",
   "execution_count": null,
   "id": "8be47973",
   "metadata": {},
   "outputs": [],
   "source": []
  },
  {
   "cell_type": "code",
   "execution_count": null,
   "id": "b7a80eff",
   "metadata": {},
   "outputs": [],
   "source": []
  },
  {
   "cell_type": "code",
   "execution_count": null,
   "id": "c21f7213",
   "metadata": {},
   "outputs": [],
   "source": []
  },
  {
   "cell_type": "code",
   "execution_count": null,
   "id": "5aee825c",
   "metadata": {},
   "outputs": [],
   "source": []
  },
  {
   "cell_type": "code",
   "execution_count": null,
   "id": "0c23e3bb",
   "metadata": {},
   "outputs": [],
   "source": []
  },
  {
   "cell_type": "code",
   "execution_count": null,
   "id": "6429d930",
   "metadata": {},
   "outputs": [],
   "source": []
  },
  {
   "cell_type": "code",
   "execution_count": null,
   "id": "986ad2ca",
   "metadata": {},
   "outputs": [],
   "source": []
  },
  {
   "cell_type": "code",
   "execution_count": null,
   "id": "aa1028b4",
   "metadata": {},
   "outputs": [],
   "source": []
  },
  {
   "cell_type": "code",
   "execution_count": null,
   "id": "5df44ace",
   "metadata": {},
   "outputs": [],
   "source": []
  },
  {
   "cell_type": "code",
   "execution_count": null,
   "id": "6a997ee7",
   "metadata": {},
   "outputs": [],
   "source": []
  },
  {
   "cell_type": "code",
   "execution_count": null,
   "id": "08743b97",
   "metadata": {},
   "outputs": [],
   "source": []
  },
  {
   "cell_type": "code",
   "execution_count": null,
   "id": "0b603bb1",
   "metadata": {},
   "outputs": [],
   "source": []
  },
  {
   "cell_type": "code",
   "execution_count": null,
   "id": "e303fb5c",
   "metadata": {},
   "outputs": [],
   "source": []
  },
  {
   "cell_type": "code",
   "execution_count": null,
   "id": "69da8a8a",
   "metadata": {},
   "outputs": [],
   "source": []
  },
  {
   "cell_type": "code",
   "execution_count": null,
   "id": "3720e00b",
   "metadata": {},
   "outputs": [],
   "source": []
  },
  {
   "cell_type": "code",
   "execution_count": null,
   "id": "90565fb0",
   "metadata": {},
   "outputs": [],
   "source": []
  },
  {
   "cell_type": "code",
   "execution_count": null,
   "id": "0ddb0638",
   "metadata": {},
   "outputs": [],
   "source": []
  },
  {
   "cell_type": "code",
   "execution_count": null,
   "id": "1277360f",
   "metadata": {},
   "outputs": [],
   "source": []
  },
  {
   "cell_type": "code",
   "execution_count": null,
   "id": "71b2dac6",
   "metadata": {},
   "outputs": [],
   "source": []
  },
  {
   "cell_type": "code",
   "execution_count": null,
   "id": "f3e5849d",
   "metadata": {},
   "outputs": [],
   "source": []
  },
  {
   "cell_type": "code",
   "execution_count": null,
   "id": "ffb88b2c",
   "metadata": {},
   "outputs": [],
   "source": []
  },
  {
   "cell_type": "code",
   "execution_count": null,
   "id": "33bc8f53",
   "metadata": {},
   "outputs": [],
   "source": []
  },
  {
   "cell_type": "code",
   "execution_count": null,
   "id": "88bc3c99",
   "metadata": {},
   "outputs": [],
   "source": []
  },
  {
   "cell_type": "code",
   "execution_count": null,
   "id": "8acd0fad",
   "metadata": {},
   "outputs": [],
   "source": []
  },
  {
   "cell_type": "code",
   "execution_count": null,
   "id": "25a57a4d",
   "metadata": {},
   "outputs": [],
   "source": []
  },
  {
   "cell_type": "code",
   "execution_count": null,
   "id": "10db30f3",
   "metadata": {},
   "outputs": [],
   "source": []
  },
  {
   "cell_type": "code",
   "execution_count": null,
   "id": "cf74af1c",
   "metadata": {},
   "outputs": [],
   "source": []
  },
  {
   "cell_type": "code",
   "execution_count": null,
   "id": "cfa99361",
   "metadata": {},
   "outputs": [],
   "source": []
  },
  {
   "cell_type": "code",
   "execution_count": null,
   "id": "053e5912",
   "metadata": {},
   "outputs": [],
   "source": []
  },
  {
   "cell_type": "code",
   "execution_count": null,
   "id": "b3e43b82",
   "metadata": {},
   "outputs": [],
   "source": []
  },
  {
   "cell_type": "code",
   "execution_count": null,
   "id": "72b9db7d",
   "metadata": {},
   "outputs": [],
   "source": []
  },
  {
   "cell_type": "code",
   "execution_count": null,
   "id": "df331ab8",
   "metadata": {},
   "outputs": [],
   "source": []
  },
  {
   "cell_type": "code",
   "execution_count": null,
   "id": "88393b13",
   "metadata": {},
   "outputs": [],
   "source": []
  },
  {
   "cell_type": "code",
   "execution_count": null,
   "id": "ec824c91",
   "metadata": {},
   "outputs": [],
   "source": []
  },
  {
   "cell_type": "code",
   "execution_count": null,
   "id": "635bdb5f",
   "metadata": {},
   "outputs": [],
   "source": []
  },
  {
   "cell_type": "code",
   "execution_count": null,
   "id": "3ba51841",
   "metadata": {},
   "outputs": [],
   "source": []
  },
  {
   "cell_type": "code",
   "execution_count": null,
   "id": "0e65f2ba",
   "metadata": {},
   "outputs": [],
   "source": []
  },
  {
   "cell_type": "code",
   "execution_count": null,
   "id": "144014fe",
   "metadata": {},
   "outputs": [],
   "source": []
  },
  {
   "cell_type": "code",
   "execution_count": null,
   "id": "92ecfd31",
   "metadata": {},
   "outputs": [],
   "source": []
  },
  {
   "cell_type": "code",
   "execution_count": null,
   "id": "3876b4b0",
   "metadata": {},
   "outputs": [],
   "source": []
  },
  {
   "cell_type": "code",
   "execution_count": null,
   "id": "ef48cd01",
   "metadata": {},
   "outputs": [],
   "source": []
  },
  {
   "cell_type": "code",
   "execution_count": null,
   "id": "1ca4a395",
   "metadata": {},
   "outputs": [],
   "source": []
  },
  {
   "cell_type": "code",
   "execution_count": null,
   "id": "717923f1",
   "metadata": {},
   "outputs": [],
   "source": []
  },
  {
   "cell_type": "code",
   "execution_count": null,
   "id": "c69b4c14",
   "metadata": {},
   "outputs": [],
   "source": []
  },
  {
   "cell_type": "code",
   "execution_count": null,
   "id": "c717b68e",
   "metadata": {},
   "outputs": [],
   "source": []
  },
  {
   "cell_type": "code",
   "execution_count": null,
   "id": "c5e5eca3",
   "metadata": {},
   "outputs": [],
   "source": []
  },
  {
   "cell_type": "code",
   "execution_count": null,
   "id": "97cf2512",
   "metadata": {},
   "outputs": [],
   "source": []
  },
  {
   "cell_type": "code",
   "execution_count": null,
   "id": "4d8f9721",
   "metadata": {},
   "outputs": [],
   "source": []
  },
  {
   "cell_type": "code",
   "execution_count": null,
   "id": "f4242c53",
   "metadata": {},
   "outputs": [],
   "source": []
  },
  {
   "cell_type": "code",
   "execution_count": null,
   "id": "d95e580d",
   "metadata": {},
   "outputs": [],
   "source": []
  },
  {
   "cell_type": "code",
   "execution_count": null,
   "id": "84f47ef2",
   "metadata": {},
   "outputs": [],
   "source": []
  },
  {
   "cell_type": "code",
   "execution_count": null,
   "id": "a96896fe",
   "metadata": {},
   "outputs": [],
   "source": []
  },
  {
   "cell_type": "code",
   "execution_count": null,
   "id": "3874a8fc",
   "metadata": {},
   "outputs": [],
   "source": []
  },
  {
   "cell_type": "code",
   "execution_count": null,
   "id": "4be5372a",
   "metadata": {},
   "outputs": [],
   "source": []
  }
 ],
 "metadata": {
  "kernelspec": {
   "display_name": "Python 3 (ipykernel)",
   "language": "python",
   "name": "python3"
  },
  "language_info": {
   "codemirror_mode": {
    "name": "ipython",
    "version": 3
   },
   "file_extension": ".py",
   "mimetype": "text/x-python",
   "name": "python",
   "nbconvert_exporter": "python",
   "pygments_lexer": "ipython3",
   "version": "3.9.13"
  }
 },
 "nbformat": 4,
 "nbformat_minor": 5
}
